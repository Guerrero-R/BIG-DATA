{
 "cells": [
  {
   "cell_type": "markdown",
   "metadata": {},
   "source": [
    "## BIG DATA\n",
    "\n",
    "## Actividad 3 | Aprendizaje supervisado y no supervisado\n",
    "\n",
    "## Esteban Guerrero Rivero A01795053\n",
    "\n",
    "\n",
    "[1. Introducción teórica](#intro)\n",
    "\n",
    "[2. Seleccion de los datos](#seleccion)\n",
    "\n",
    "[3. Preparación de los datos](#preparacion)\n",
    "\n",
    "[4. Preparación del conjunto de entrenamiento y prueba](#conjuntos)\n",
    "\n",
    "[5. Construcón de modelos de aprendizaje no supervisado y supervisado](#modelos)\n",
    "\n",
    "[Conclusiones](#conclusion)"
   ]
  },
  {
   "cell_type": "markdown",
   "metadata": {},
   "source": [
    "<a id=\"intro\"></a>\n",
    "# Introducción teórica"
   ]
  },
  {
   "cell_type": "markdown",
   "metadata": {},
   "source": [
    "# Aprendizaje supervisado\n",
    "\n",
    "El aprendizaje supervisado es una tecnica del aprensizaje automatico, en la que se empolean datos de entrenamiento previamente etiquetados o clasificados, el objketivo del modelo es predecir de manera precisa esta etiqueta a a partir de caracteristicas de entrada, para lograr dicho cometido, se debe dividir el conjunto de datos en entrenamiento, prueba y valdación, posteriormente evaluar el modelo o ajustar los parametros con base a los resultados de las distintas metricas de evaluación como lo son _presició, rtecall, f1-score etc._\n",
    "\n",
    "## Ejemplos de algoritmos supervisados:\n",
    "\n",
    "Regresión Logística: _útil para clasificación binaria_\n",
    "\n",
    "Árboles de Decisión (DecisionTreeClassifier): _divide los datos de forma jerárquica en función de sus características._\n",
    "\n",
    "Random Forest: _ensamble de árboles para mayor precisión y menor sobreajuste._\n",
    "\n",
    "Gradient Boosted Trees (GBTClassifier): _mejora iterativa corrigiendo errores previos._\n",
    "\n",
    "Multilayer Perceptron: _red neuronal multicapa para clasificación compleja._\n",
    "\n",
    "Support Vector Machines (LinearSVC): _útil para clasificación lineal binaria._\n",
    "\n",
    "Naive Bayes: _rápido y eficiente, especialmente para texto._\n",
    "\n",
    "## Disponibles en PySpark MLlib:\n",
    "\n",
    "LogisticRegression\n",
    "\n",
    "DecisionTreeClassifier\n",
    "\n",
    "RandomForestClassifier\n",
    "\n",
    "GBTClassifier\n",
    "\n",
    "MultilayerPerceptronClassifier\n",
    "\n",
    "LinearSVC\n",
    "\n",
    "NaiveBayes\n",
    "\n",
    "FMClassifier \n",
    "\n",
    "# Aprendizaje no supervisado\n",
    "\n",
    "El aprendizaje no supervisado es la tecnica empleada cuando el conjunto de datos carece de etiquetas, el objetivo de este tipo de aprendizaje automatico, es descubir patrones o estructuras subyacentes, asi como relaciones entre los diferentes elemntos\n",
    "\n",
    "## Ejemplos de algoritmos no supervisados:\n",
    "\n",
    "KMeans: _agrupa datos según distancia a centros de cluster._\n",
    "\n",
    "Gaussian Mixture Models: _permite modelar clusters como distribuciones gaussianas superpuestas._\n",
    "\n",
    "Bisecting KMeans: _versión jerárquica del KMeans._\n",
    "\n",
    "Power Iteration Clustering (PIC): _útil para datos representados como grafos._\n",
    "\n",
    "LDA (Latent Dirichlet Allocation): _se usa en NLP para descubrir temas en documentos._\n",
    "\n",
    "FPGrowth y PrefixSpan: _para minería de patrones frecuentes y reglas de asociación._\n",
    "\n",
    "## Disponibles en PySpark MLlib:\n",
    "\n",
    "KMeans\n",
    "\n",
    "GaussianMixture\n",
    "\n",
    "BisectingKMeans\n",
    "\n",
    "PowerIterationClustering\n",
    "\n",
    "LDA\n",
    "\n",
    "FPGrowth, PrefixSpan (para minería de patrones)\n",
    "\n",
    "# PySpark MLlib\n",
    "\n",
    "Spark MLlib ofrece una API robusta para construir pipelines de machine learning, que incluyen:\n",
    "\n",
    "Transformadores: _preparan los datos (VectorAssembler, Tokenizer, etc.)._\n",
    "\n",
    "Estimadores: _entrenan los modelos (LogisticRegression, KMeans, etc.)._\n",
    "\n",
    "Evaluadores: _miden el rendimiento (BinaryClassificationEvaluator, ClusteringEvaluator, etc.)._\n",
    "\n",
    "Técnicas de muestreo: _soporta muestreo aleatorio, estratificado, por bootstrap y adaptativo para big data_\n",
    "\n",
    "MLlib está optimizado para datos distribuidos y escalables, permitiendo entrenamiento en clústeres con grandes volúmenes de datos tanto para aprendizaje supervisado como no supervisado."
   ]
  },
  {
   "cell_type": "code",
   "execution_count": 43,
   "metadata": {},
   "outputs": [],
   "source": [
    "# Inicializar Spark\n",
    "import findspark, os, re\n",
    "findspark.init()\n",
    "from pyspark.sql import SparkSession, functions as F\n",
    "\n",
    "spark = SparkSession.builder \\\n",
    "    .master('local[*]') \\\n",
    "    .config('spark.driver.memory', '32g') \\\n",
    "    .config(\"spark.executor.memory\", \"32g\") \\\n",
    "    .appName('AmazonBooks-Sampling') \\\n",
    "    .getOrCreate()\n",
    "spark.conf.set('spark.sql.repl.eagerEval.enabled', 'true')"
   ]
  },
  {
   "cell_type": "code",
   "execution_count": 44,
   "metadata": {},
   "outputs": [],
   "source": [
    "from IPython.display import Image\n",
    "import numpy as np\n",
    "import pandas as pd\n",
    "import matplotlib.pyplot as plt \n",
    "import seaborn as sns"
   ]
  },
  {
   "cell_type": "markdown",
   "metadata": {},
   "source": [
    "<a id=\"seleccion\"></a>\n",
    "## Selección de los datos"
   ]
  },
  {
   "cell_type": "code",
   "execution_count": 45,
   "metadata": {},
   "outputs": [],
   "source": [
    "reviews = spark.read.csv(\"Books_rating.csv\",\n",
    "                    header=True,\n",
    "                    inferSchema=True,\n",
    "                    sep=\",\",\n",
    "                    quote='\"',        # <- Maneja correctamente los textos entre comillas\n",
    "                    escape='\"'        # <- (opcional) Escapa comillas internas si las hubiera\n",
    "                    )\n",
    "books = spark.read.csv(\"books_data.csv\",\n",
    "                    header=True,\n",
    "                    inferSchema=True,\n",
    "                    sep=\",\",\n",
    "                    quote='\"',        # <- Maneja correctamente los textos entre comillas\n",
    "                    escape='\"'        # <- (opcional) Escapa comillas internas si las hubiera\n",
    "                    )\n",
    "full_data = reviews.join(books, on='Title', how='left')"
   ]
  },
  {
   "cell_type": "code",
   "execution_count": 46,
   "metadata": {},
   "outputs": [
    {
     "name": "stdout",
     "output_type": "stream",
     "text": [
      "summary                      mean              stddev        min     max\n",
      "review/score    4.215289333333334  1.2030537472334022        1.0     5.0\n",
      "price          21.762655874939163  26.206540521370115        1.0   995.0\n",
      "publishedDate  1985.0539203308863  38.030385731963555  101-01-01    20??\n",
      "ratingsCount   272.09905936069714   788.8162145564311        1.0  4895.0\n"
     ]
    }
   ],
   "source": [
    "import pandas as pd\n",
    "cols = [\n",
    "    \"review/score\",\n",
    "    \"price\",\n",
    "    \"publishedDate\",\n",
    "    \"ratingsCount\",\n",
    "]\n",
    "\n",
    "# 1) Usando describe() — devuelve count, mean, stddev, min, max\n",
    "desc_df = full_data.select(cols).describe().toPandas()\n",
    "desc_transposed = desc_df.set_index('summary').T.drop('count', axis=1)\n",
    "\n",
    "print(desc_transposed)"
   ]
  },
  {
   "cell_type": "code",
   "execution_count": 47,
   "metadata": {},
   "outputs": [
    {
     "name": "stdout",
     "output_type": "stream",
     "text": [
      "+-------+---------+---------+----------------+----------------+-----------------+------------------+\n",
      "|  count|min_chars|max_chars|      mean_chars|    stddev_chars|      mean_tokens|     stddev_tokens|\n",
      "+-------+---------+---------+----------------+----------------+-----------------+------------------+\n",
      "|2359775|        1|    26092|722.179402697291|630.200551802687|91.85404533333333|103.08612464092816|\n",
      "+-------+---------+---------+----------------+----------------+-----------------+------------------+\n",
      "\n"
     ]
    }
   ],
   "source": [
    "cols = [\n",
    "    \"publishedDate\",\n",
    "    \"ratingsCount\",\n",
    "]\n",
    "\n",
    "full_data = full_data \\\n",
    "    .withColumn('desc_len_chars', F.length(F.col('description'))) \\\n",
    "    .withColumn('desc_len_tokens', F.size(F.split(F.col('description'), r'\\s+')))\n",
    "\n",
    "stats_desc = full_data.agg(\n",
    "    F.count('description').alias('count'),\n",
    "    F.min('desc_len_chars').alias('min_chars'),\n",
    "    F.max('desc_len_chars').alias('max_chars'),\n",
    "    F.mean('desc_len_chars').alias('mean_chars'),\n",
    "    F.stddev('desc_len_chars').alias('stddev_chars'),\n",
    "    F.mean('desc_len_tokens').alias('mean_tokens'),\n",
    "    F.stddev('desc_len_tokens').alias('stddev_tokens')\n",
    ")\n",
    "stats_desc.show()"
   ]
  },
  {
   "cell_type": "markdown",
   "metadata": {},
   "source": [
    "## 2. Diseño de particiones\n",
    "Las particiones se crean a partir del producto cruzado entre:\n",
    "- **review_score_group**: Low (1–2), Mid (3), High (4–5)\n",
    "- **categories_group**: Fiction / Non-Fiction\n",
    "\n",
    "### Probabilidades empíricas por combinación:"
   ]
  },
  {
   "cell_type": "code",
   "execution_count": 48,
   "metadata": {},
   "outputs": [
    {
     "name": "stdout",
     "output_type": "stream",
     "text": [
      "+-------+-----------+-------+---------------------+\n",
      "|R_group|C_group    |N      |Pr                   |\n",
      "+-------+-----------+-------+---------------------+\n",
      "|High   |Fiction    |38670  |0.01289              |\n",
      "|High   |Non‑Fiction|2354289|0.784763             |\n",
      "|Low    |Fiction    |3736   |0.0012453333333333333|\n",
      "|Low    |Non‑Fiction|349010 |0.11633666666666667  |\n",
      "|Mid    |Fiction    |3103   |0.0010343333333333333|\n",
      "|Mid    |Non‑Fiction|251192 |0.08373066666666666  |\n",
      "+-------+-----------+-------+---------------------+\n",
      "\n"
     ]
    }
   ],
   "source": [
    "from pyspark.sql.functions import col, when, regexp_replace, split, explode\n",
    "\n",
    "# 1) Definir R_group\n",
    "full_data = full_data.withColumn(\n",
    "    \"R_group\",\n",
    "    when(col(\"review/score\") <= 2, \"Low\")\n",
    "    .when(col(\"review/score\") == 3, \"Mid\")\n",
    "    .otherwise(\"High\")\n",
    ")\n",
    "\n",
    "# 2) Definir C_group limpiando y usando la primera etiqueta\n",
    "#    (asume formato [\"Cat1\",\"Cat2\",…])\n",
    "full_data = full_data.withColumn(\n",
    "    \"first_cat\",\n",
    "    split(regexp_replace(col(\"categories\"), r\"^\\[|\\]$\", \"\"), r\",\\s*\")[0]\n",
    ")\n",
    "full_data = full_data.withColumn(\n",
    "    \"C_group\",\n",
    "    when(col(\"first_cat\").contains(\"fiction\"), \"Fiction\").otherwise(\"Non‑Fiction\")\n",
    ").drop(\"first_cat\")\n",
    "\n",
    "# 3) Ver probabilidades empíricas de cada combinación\n",
    "freqs = (\n",
    "    full_data\n",
    "    .groupBy(\"R_group\", \"C_group\")\n",
    "    .count()\n",
    "    .withColumnRenamed(\"count\", \"N\")\n",
    "    .withColumn(\"Pr\", (col(\"N\") / full_data.count()).cast(\"double\"))\n",
    "    .orderBy(\"R_group\", \"C_group\")\n",
    ")\n",
    "freqs.show(truncate=False)\n"
   ]
  },
  {
   "cell_type": "code",
   "execution_count": 49,
   "metadata": {},
   "outputs": [
    {
     "name": "stdout",
     "output_type": "stream",
     "text": [
      "Low×Fiction: 3,736 rows\n",
      "Low×Non‑Fiction: 349,010 rows\n",
      "Mid×Fiction: 3,103 rows\n",
      "Mid×Non‑Fiction: 251,192 rows\n",
      "High×Fiction: 38,670 rows\n",
      "High×Non‑Fiction: 2,354,289 rows\n"
     ]
    }
   ],
   "source": [
    "from pyspark.sql.functions import col\n",
    "\n",
    "# 1) Función auxiliar\n",
    "def get_partition(df, r_group: str, c_group: str):\n",
    "    return df.filter((col(\"R_group\") == r_group) & (col(\"C_group\") == c_group))\n",
    "\n",
    "# 2) Generar un dict con todos los estratos\n",
    "partitions = {}\n",
    "for rg in [\"Low\", \"Mid\", \"High\"]:\n",
    "    for cg in [\"Fiction\", \"Non‑Fiction\"]:\n",
    "        key = f\"{rg}×{cg}\"\n",
    "        partitions[key] = get_partition(full_data, rg, cg)\n",
    "\n",
    "# 3) Ver conteos de cada partición\n",
    "for key, df_part in partitions.items():\n",
    "    print(f\"{key}: {df_part.count():,} rows\")"
   ]
  },
  {
   "cell_type": "markdown",
   "metadata": {},
   "source": [
    "## 3. Técnica de muestreo\n",
    "Se usará **muestreo aleatorio simple estratificado** (SRS) dentro de cada estrato (R_group x C_group) por estas razones:.\n",
    "\n",
    "**Control de heterogeneidad**: cada combinación de sentimiento (Low/Mid/High) y género (Fiction/Non‑Fiction) se trata como una subpoblación homogénea.\n",
    "\n",
    "**Minimización de sesgos**: al muestrear por estrato, evitamos que los grupos grandes dominen la muestra.\n",
    "\n",
    "**Asignación tipo Neyman**: definimos fracciones mayores en estratos pequeños para garantizar un tamaño de muestra mínimo, y menores en estratos muy grandes para eficiencia.\n",
    "\n",
    "### Fórmula de tamaño de muestra de Cochran\n",
    "\n",
    "$$\n",
    "n_0 = \\frac{Z^2 \\cdot p \\cdot (1 - p)}{E^2}\n",
    "$$\n",
    "\n",
    "Donde:\n",
    "\n",
    "- **n₀** = tamaño de muestra inicial para poblaciones grandes (antes de cualquier ajuste para poblaciones finitas)  \n",
    "- **Z** = valor z (por ejemplo, 1.96 para un 95 % de confianza)  \n",
    "- **p** = proporción poblacional estimada (usar 0.5 si se desconoce)  \n",
    "- **E** = margen de error  "
   ]
  },
  {
   "cell_type": "code",
   "execution_count": 50,
   "metadata": {},
   "outputs": [
    {
     "name": "stdout",
     "output_type": "stream",
     "text": [
      "Tamaño de muestra necesario: 16384.0\n",
      "Tamaño de muestra ajustado (población finita): 16296\n"
     ]
    }
   ],
   "source": [
    "#Definición del tamaño de muestra\n",
    "import math\n",
    "\n",
    "Z = 2.56 # 99% de confianza\n",
    "p = 0.5 # probabilidad de que el usuario le guste el libro\n",
    "E = 0.01 # margen de error\n",
    "\n",
    "n0 = (Z**2 * p * (1-p)) / (E**2)\n",
    "print(\"Tamaño de muestra necesario:\", n0)\n",
    "\n",
    "N = full_data.count() # población total\n",
    "\n",
    "n = n0 / (1 + ((n0 - 1) / N))\n",
    "n = math.ceil(n)\n",
    "print(f\"Tamaño de muestra ajustado (población finita): {n}\")"
   ]
  },
  {
   "cell_type": "markdown",
   "metadata": {},
   "source": [
    "### Fórmula para muestreo estratificado\n",
    "\n",
    "El muestreo estratificado se utiliza cuando una población puede dividirse en subgrupos distintos, o estratos, como grupos de edad, género o nivel educativo. El tamaño de muestra para cada estrato puede determinarse mediante el uso de la asignación proporcional:\n",
    "\n",
    "$$\n",
    "n_h = \\frac{N_h}{N} \\cdot n\n",
    "$$\n",
    "\n",
    "Donde:\n",
    "\n",
    "- **nₕ** = tamaño de muestra para el estrato h  \n",
    "- **Nₕ** = tamaño de la población en el estrato h  \n",
    "- **N** = tamaño total de la población  \n",
    "- **n** = tamaño total de la muestra  "
   ]
  },
  {
   "cell_type": "code",
   "execution_count": 51,
   "metadata": {},
   "outputs": [
    {
     "name": "stdout",
     "output_type": "stream",
     "text": [
      "+-------+-----------+-----+\n",
      "|R_group|C_group    |count|\n",
      "+-------+-----------+-----+\n",
      "|High   |Fiction    |225  |\n",
      "|High   |Non‑Fiction|12936|\n",
      "|Low    |Fiction    |58   |\n",
      "|Low    |Non‑Fiction|1861 |\n",
      "|Mid    |Fiction    |56   |\n",
      "|Mid    |Non‑Fiction|1414 |\n",
      "+-------+-----------+-----+\n",
      "\n"
     ]
    }
   ],
   "source": [
    "from pyspark.sql.functions import concat_ws, col\n",
    "fraction = n / N\n",
    "\n",
    "\n",
    "# 1) Definición de frecuencias para obtener como mínimo 50 muestras por estrato\n",
    "fractions = {\n",
    "    \"Low×Fiction\":      50/3756,\n",
    "    \"Low×Non‑Fiction\":  fraction,\n",
    "    \"Mid×Fiction\":      50/3103,\n",
    "    \"Mid×Non‑Fiction\":  fraction,\n",
    "    \"High×Fiction\":     fraction,\n",
    "    \"High×Non‑Fiction\": fraction,\n",
    "}\n",
    "\n",
    "# 2) Creo la columna compuesta\n",
    "full2 = full_data.withColumn(\n",
    "    \"stratum\",\n",
    "    concat_ws(\"×\", col(\"R_group\"), col(\"C_group\"))\n",
    ")\n",
    "\n",
    "# 3) Muestreo estratificado usando esa columna\n",
    "sample_df = full2.stat.sampleBy(\"stratum\", fractions, seed=42)\n",
    "\n",
    "# 4) Veo el conteo por estrato para validar\n",
    "sample_df.groupBy(\"R_group\", \"C_group\") \\\n",
    "         .count() \\\n",
    "         .orderBy(\"R_group\", \"C_group\") \\\n",
    "         .show(truncate=False)\n"
   ]
  },
  {
   "cell_type": "code",
   "execution_count": 52,
   "metadata": {},
   "outputs": [
    {
     "name": "stdout",
     "output_type": "stream",
     "text": [
      "+-------+-----------+-----+---------+\n",
      "|R_group|    C_group|    N|MeanScore|\n",
      "+-------+-----------+-----+---------+\n",
      "|   High|    Fiction|  225|      4.8|\n",
      "|   High|Non‑Fiction|12936|     4.75|\n",
      "|    Low|    Fiction|   58|      1.6|\n",
      "|    Low|Non‑Fiction| 1861|     1.43|\n",
      "|    Mid|    Fiction|   56|      3.0|\n",
      "|    Mid|Non‑Fiction| 1414|      3.0|\n",
      "+-------+-----------+-----+---------+\n",
      "\n"
     ]
    }
   ],
   "source": [
    "# Estadísticas exploratorias por grupo\n",
    "sample_df.groupBy('R_group', 'C_group') \\\n",
    "    .agg(F.count('*').alias('N'),\n",
    "         F.round(F.avg('review/score'),2).alias('MeanScore')) \\\n",
    "    .orderBy('R_group','C_group') \\\n",
    "    .show()"
   ]
  },
  {
   "cell_type": "code",
   "execution_count": 53,
   "metadata": {},
   "outputs": [
    {
     "name": "stdout",
     "output_type": "stream",
     "text": [
      "+-------+-----------+-----+---------------------+\n",
      "|R_group|C_group    |N    |Pr                   |\n",
      "+-------+-----------+-----+---------------------+\n",
      "|High   |Fiction    |225  |0.013595166163141994 |\n",
      "|High   |Non‑Fiction|12936|0.7816314199395771   |\n",
      "|Low    |Fiction    |58   |0.0035045317220543807|\n",
      "|Low    |Non‑Fiction|1861 |0.11244712990936556  |\n",
      "|Mid    |Fiction    |56   |0.0033836858006042296|\n",
      "|Mid    |Non‑Fiction|1414 |0.0854380664652568   |\n",
      "+-------+-----------+-----+---------------------+\n",
      "\n"
     ]
    }
   ],
   "source": [
    "# 3) Verificación de probabilidades de cada combinación en la muestra\n",
    "#    (deberían ser similares a las de la población)\n",
    "#    (asume que la muestra es representativa)\n",
    "freqs_Sample = (\n",
    "    sample_df\n",
    "    .groupBy(\"R_group\", \"C_group\")\n",
    "    .count()\n",
    "    .withColumnRenamed(\"count\", \"N\")\n",
    "    .withColumn(\"Pr\", (col(\"N\") / sample_df.count()).cast(\"double\"))\n",
    "    .orderBy(\"R_group\", \"C_group\")\n",
    ")\n",
    "freqs_Sample.show(truncate=False)"
   ]
  },
  {
   "cell_type": "markdown",
   "metadata": {},
   "source": [
    "<a id=\"preparacion\"></a>\n",
    "## Preparación de los datos"
   ]
  },
  {
   "cell_type": "code",
   "execution_count": 56,
   "id": "50895066",
   "metadata": {},
   "outputs": [
    {
     "name": "stdout",
     "output_type": "stream",
     "text": [
      "+----------------------------+\n",
      "|features                    |\n",
      "+----------------------------+\n",
      "|[5.0,10.2,1.0,1174.0,199.0] |\n",
      "|[5.0,6.52,39.0,228.0,32.0]  |\n",
      "|[5.0,6.48,52.0,1078.0,189.0]|\n",
      "|[2.0,10.95,2.0,185.0,30.0]  |\n",
      "|[4.0,8.99,1.0,1734.0,273.0] |\n",
      "+----------------------------+\n",
      "only showing top 5 rows\n",
      "\n"
     ]
    }
   ],
   "source": [
    "from pyspark.ml.feature import VectorAssembler\n",
    "from pyspark.sql.types import NumericType\n",
    "\n",
    "# 1. Seleccionar columnas numéricas reales\n",
    "features_cols = [\"review/score\", \"Price\", \"ratingsCount\", \"desc_len_chars\", \"desc_len_tokens\"]\n",
    "\n",
    "# 2. Asegurarse de que no hay valores nulos\n",
    "sample_df = sample_df.select(*features_cols, \"R_group\", \"C_group\", \"stratum\").dropna()\n",
    "\n",
    "# 3. Armar el vector de características\n",
    "assembler = VectorAssembler(inputCols=features_cols, outputCol=\"features\")\n",
    "sample_df = assembler.transform(sample_df)\n",
    "\n",
    "# 4. Verifica que se creó la columna 'features'\n",
    "sample_df.select(\"features\").show(5, truncate=False)"
   ]
  },
  {
   "cell_type": "markdown",
   "metadata": {},
   "source": [
    "<a id=\"conjuntos\"></a>\n",
    "## Preparación del conjunto de entrenamiento y prueba"
   ]
  },
  {
   "cell_type": "code",
   "execution_count": 65,
   "metadata": {},
   "outputs": [
    {
     "name": "stdout",
     "output_type": "stream",
     "text": [
      "Entrenamiento: 668 filas\n",
      "Prueba: 307 filas\n"
     ]
    }
   ],
   "source": [
    "# Dividir el dataset en entrenamiento y prueba\n",
    "train_df, test_df = sample_df.randomSplit([0.7, 0.3], seed=42)\n",
    "print(f\"Entrenamiento: {train_df.count()} filas\")\n",
    "print(f\"Prueba: {test_df.count()} filas\")"
   ]
  },
  {
   "cell_type": "markdown",
   "metadata": {},
   "source": [
    "<a id=\"modelos\"></a>\n",
    "## Construcción de modelos de aprendizaje no supervisado y supervisado"
   ]
  },
  {
   "cell_type": "code",
   "execution_count": 66,
   "metadata": {},
   "outputs": [
    {
     "name": "stdout",
     "output_type": "stream",
     "text": [
      "🔍 Evaluación del modelo en el conjunto de prueba:\n",
      "Accuracy: 1.0000\n",
      "F1 Score: 1.0000\n",
      "Precision: 1.0000\n",
      "Recall: 1.0000\n"
     ]
    }
   ],
   "source": [
    "from pyspark.ml.classification import RandomForestClassifier\n",
    "from pyspark.ml.evaluation import MulticlassClassificationEvaluator\n",
    "\n",
    "# Entrenar modelo con los datos de entrenamiento\n",
    "rf = RandomForestClassifier(labelCol=\"review/score\", featuresCol=\"features\", numTrees=100, maxDepth=5)\n",
    "model_rf = rf.fit(train_df)\n",
    "\n",
    "# Predecir en el conjunto de prueba\n",
    "predictions = model_rf.transform(test_df)\n",
    "\n",
    "# Evaluación multiclase\n",
    "evaluator = MulticlassClassificationEvaluator(labelCol=\"review/score\", predictionCol=\"prediction\")\n",
    "accuracy = evaluator.evaluate(predictions, {evaluator.metricName: \"accuracy\"})\n",
    "f1 = evaluator.evaluate(predictions, {evaluator.metricName: \"f1\"})\n",
    "precision = evaluator.evaluate(predictions, {evaluator.metricName: \"weightedPrecision\"})\n",
    "recall = evaluator.evaluate(predictions, {evaluator.metricName: \"weightedRecall\"})\n",
    "\n",
    "print(\"🔍 Evaluación del modelo en el conjunto de prueba:\")\n",
    "print(f\"Accuracy: {accuracy:.4f}\")\n",
    "print(f\"F1 Score: {f1:.4f}\")\n",
    "print(f\"Precision: {precision:.4f}\")\n",
    "print(f\"Recall: {recall:.4f}\")"
   ]
  },
  {
   "cell_type": "code",
   "execution_count": 67,
   "metadata": {},
   "outputs": [
    {
     "data": {
      "image/png": "[encoded data removed]",
      "text/plain": [
       "<Figure size 600x500 with 2 Axes>"
      ]
     },
     "metadata": {},
     "output_type": "display_data"
    }
   ],
   "source": [
    "import seaborn as sns\n",
    "import matplotlib.pyplot as plt\n",
    "from sklearn.metrics import confusion_matrix\n",
    "\n",
    "# Convertir predicciones a pandas\n",
    "pdf_pred = predictions.select(\"review/score\", \"prediction\").toPandas()\n",
    "\n",
    "# Calcular matriz de confusión\n",
    "cm = confusion_matrix(pdf_pred[\"review/score\"], pdf_pred[\"prediction\"])\n",
    "\n",
    "# Visualizar\n",
    "plt.figure(figsize=(6, 5))\n",
    "sns.heatmap(cm, annot=True, fmt='d', cmap=\"Blues\")\n",
    "plt.xlabel(\"Predicción\")\n",
    "plt.ylabel(\"Valor real\")\n",
    "plt.title(\"Matriz de Confusión\")\n",
    "plt.show()"
   ]
  },
  {
   "cell_type": "code",
   "execution_count": 68,
   "id": "1d830cd7",
   "metadata": {},
   "outputs": [
    {
     "name": "stdout",
     "output_type": "stream",
     "text": [
      "🔍 Resultados del modelo no supervisado (KMeans):\n",
      "Silhouette Score: 0.7299\n",
      "Centroides:\n",
      "  Centro 0: [  4.26903553  17.78778342  21.68866328 394.86463621  63.69881557]\n",
      "  Centro 1: [   4.2027027    17.91716216   20.54054054 1440.07297297  234.0972973 ]\n",
      "  Centro 2: [   4.           13.28857143 3177.71428571  400.78571429   60.42857143]\n"
     ]
    }
   ],
   "source": [
    "from pyspark.ml.clustering import KMeans\n",
    "from pyspark.ml.evaluation import ClusteringEvaluator\n",
    "\n",
    "kmeans = KMeans(featuresCol=\"features\", k=3, seed=42)\n",
    "kmeans_model = kmeans.fit(sample_df)\n",
    "clusters = kmeans_model.transform(sample_df)\n",
    "\n",
    "evaluator = ClusteringEvaluator(featuresCol=\"features\", predictionCol=\"prediction\", metricName=\"silhouette\")\n",
    "silhouette = evaluator.evaluate(clusters)\n",
    "\n",
    "print(f\"🔍 Resultados del modelo no supervisado (KMeans):\")\n",
    "print(f\"Silhouette Score: {silhouette:.4f}\")\n",
    "print(\"Centroides:\")\n",
    "for i, center in enumerate(kmeans_model.clusterCenters()):\n",
    "    print(f\"  Centro {i}: {center}\")"
   ]
  },
  {
   "cell_type": "code",
   "execution_count": 69,
   "metadata": {},
   "outputs": [
    {
     "data": {
      "image/png": "[encoded data removed]",
      "text/plain": [
       "<Figure size 600x500 with 1 Axes>"
      ]
     },
     "metadata": {},
     "output_type": "display_data"
    }
   ],
   "source": [
    "# Visualización del resultado de clustering (usando 2 primeras dimensiones del vector)\n",
    "import pandas as pd\n",
    "import seaborn as sns\n",
    "import matplotlib.pyplot as plt\n",
    "\n",
    "pandas_clusters = clusters.select(\"prediction\", \"features\").toPandas()\n",
    "pandas_clusters[\"x\"] = pandas_clusters[\"features\"].apply(lambda v: v[0])\n",
    "pandas_clusters[\"y\"] = pandas_clusters[\"features\"].apply(lambda v: v[1])\n",
    "\n",
    "plt.figure(figsize=(6, 5))\n",
    "sns.scatterplot(data=pandas_clusters, x=\"x\", y=\"y\", hue=\"prediction\", palette=\"Set1\", s=60)\n",
    "plt.title(\"Clustering con KMeans (2 primeras dimensiones)\")\n",
    "plt.xlabel(\"Feature 1\")\n",
    "plt.ylabel(\"Feature 2\")\n",
    "plt.legend(title=\"Cluster\")\n",
    "plt.show()"
   ]
  },
  {
   "cell_type": "markdown",
   "metadata": {},
   "source": [
    "<a id=\"conclusion\"></a>\n",
    "## Conclusión\n",
    "\n",
    "Efectivamente, aunque el archivo seleccionado es de aproximadamente 2GB al descomprimirlo, las operaciones con el tienen un costo computacional considerable, tomando varios segundos e incluso minutos para ejecutarse, por otro lado, aunque habia realizado la actividad inicial de la instalacion del entorno Pyspark con Python 3.12, tuve problemas de crasheo al tratar de implementar los modelos de ML de la libreria de pyspark, por lo que tuve que crear un entorno adicional con Python 3.10.\n",
    "\n",
    "Con este ejercicio se implementaron 2 técnicas de aprendizaje automatico con ayuda de la líbreria de ML de pyspark, cabe aclarar que en RandomForestClasifier existe un error, el cual por falta de tiempo ya no me fue posible verificar, voy a identificar el error y seguir trabajando este archivo.\n",
    "\n"
   ]
  }
 ],
 "metadata": {
  "kernelspec": {
   "display_name": "env-pyspark-310",
   "language": "python",
   "name": "python3"
  },
  "language_info": {
   "codemirror_mode": {
    "name": "ipython",
    "version": 3
   },
   "file_extension": ".py",
   "mimetype": "text/x-python",
   "name": "python",
   "nbconvert_exporter": "python",
   "pygments_lexer": "ipython3",
   "version": "3.10.16"
  }
 },
 "nbformat": 4,
 "nbformat_minor": 2
}
