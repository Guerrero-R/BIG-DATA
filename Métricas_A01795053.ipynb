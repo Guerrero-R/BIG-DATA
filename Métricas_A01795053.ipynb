{
 "cells": [
  {
   "cell_type": "markdown",
   "metadata": {},
   "source": [
    "## BIG DATA\n",
    "\n",
    "## Actividad 4 | Metricas de calidad de resultados\n",
    "\n",
    "## Esteban Guerrero Rivero A01795053\n",
    "\n",
    "[1. Marco Teórico](#marco)\n",
    "\n",
    "[2. Construcción de la Muestra Representativa (M)](#muestra)\n",
    "\n",
    "[3. División de la Muestra en Entrenamiento y Prueba](#division)\n",
    "\n",
    "[4. Selección de Métricas de Evaluación](#metricas)\n",
    "\n",
    "[5. Entrenamiento de Modelos de Aprendizaje](#entrenamiento)\n",
    "\n",
    "[6. Análisis Crítico de Resultados](#analisis)\n"
   ]
  },
  {
   "cell_type": "markdown",
   "metadata": {},
   "source": [
    "<a id=\"marco\"></a>\n",
    "# 1. Marco teórico"
   ]
  },
  {
   "cell_type": "markdown",
   "metadata": {},
   "source": [
    "Introducción.\n",
    "\n",
    "La mayor parte de la información actual se ha generado solamente en los ultimos años, desde el punto de vista de la generación y evaluacion de moidelos en Big Data el enfoque tradicional de machine learning privilegia la presiciÓn, sin considerar el costo computacional o la eficiencia enegética.\n",
    "\n",
    "Un ejemplo lo son los sectores donde se generan datos masivos, como lo son:\n",
    "\n",
    "Clima y medio ambiente\n",
    "\n",
    "*Sensores ambientales general petabytes de datos al año, es importante analizar la información en tiempo real*\n",
    "\n",
    "Biologia y medicina\n",
    "\n",
    "*El estudio del genoma humano, las imÁgenes medicas y expedientes electrónicos generan una gran cantidad de información, en este ambiente se requiere de gran presiciÓn sion comprometer la integridad ni la confidencialidad de los datos*\n",
    "\n",
    "Astronomia\n",
    "\n",
    "*Los telescopíos modernos generanm terabytes por noche, inclusive proyectos modernos en marcha como lo es el telescopio Vera Rubin producirán información en el orden de los petabytes, lo cual exigirá el empleo de modelos computacionales mas eifcientes.*\n",
    "\n",
    "Por lo anterior se deben seguier las siguientes recomendaciones y buenas prácticas \n",
    "\n",
    "Los modelos complejos cono los SVM o Bayesianos no paramétricos son precisos, pero ineficientes para grandes volumenes de información, por lo que se sugiere convertir esos modelos a versiones semiparametricas para reducir el costo computacional\n",
    "\n",
    "Favorecer el aprendizaje local, por lo que se debe dividir el modelo en clusters para creazr modelos locales más simples\n",
    "\n",
    "Se debe evitar el uso de Deep Learning en big data, se recomienta utilixar tecnicas semiparametricas\n",
    "\n",
    "En reumen, la tendencia a trabajar cada vez con mayores cantidades de datos hace que sea imprescindible evolucionar hacia enfoques más sostenibles de aprendizaje máquina, asi mismo un correcto modelado (selección, limpieza de datos, selección del modelo) es escencial para poder obtener los beneficios del apredizaje máquina en Big Data."
   ]
  },
  {
   "cell_type": "code",
   "execution_count": 144,
   "metadata": {},
   "outputs": [],
   "source": [
    "# Inicializar Spark\n",
    "import findspark, os, re\n",
    "findspark.init()\n",
    "from pyspark.sql import SparkSession, functions as F\n",
    "\n",
    "spark = SparkSession.builder \\\n",
    "    .master('local[*]') \\\n",
    "    .config('spark.driver.memory', '32g') \\\n",
    "    .config(\"spark.executor.memory\", \"32g\") \\\n",
    "    .appName('AmazonBooks-Sampling') \\\n",
    "    .getOrCreate()\n",
    "spark.conf.set('spark.sql.repl.eagerEval.enabled', 'true')"
   ]
  },
  {
   "cell_type": "code",
   "execution_count": 145,
   "metadata": {},
   "outputs": [],
   "source": [
    "from IPython.display import Image\n",
    "import numpy as np\n",
    "import pandas as pd\n",
    "import matplotlib.pyplot as plt \n",
    "import seaborn as sns"
   ]
  },
  {
   "cell_type": "markdown",
   "metadata": {},
   "source": [
    "<a id=\"seleccion\"></a>\n",
    "## Selección de los datos"
   ]
  },
  {
   "cell_type": "code",
   "execution_count": 146,
   "metadata": {},
   "outputs": [],
   "source": [
    "reviews = spark.read.csv(\"Books_rating.csv\",\n",
    "                    header=True,\n",
    "                    inferSchema=True,\n",
    "                    sep=\",\",\n",
    "                    quote='\"',        # <- Maneja correctamente los textos entre comillas\n",
    "                    escape='\"'        # <- (opcional) Escapa comillas internas si las hubiera\n",
    "                    )\n",
    "books = spark.read.csv(\"books_data.csv\",\n",
    "                    header=True,\n",
    "                    inferSchema=True,\n",
    "                    sep=\",\",\n",
    "                    quote='\"',        # <- Maneja correctamente los textos entre comillas\n",
    "                    escape='\"'        # <- (opcional) Escapa comillas internas si las hubiera\n",
    "                    )\n",
    "full_data = reviews.join(books, on='Title', how='left')"
   ]
  },
  {
   "cell_type": "code",
   "execution_count": 147,
   "metadata": {},
   "outputs": [
    {
     "name": "stdout",
     "output_type": "stream",
     "text": [
      "summary                      mean              stddev        min     max\n",
      "review/score    4.215289333333334  1.2030537472334022        1.0     5.0\n",
      "price          21.762655874939163  26.206540521370115        1.0   995.0\n",
      "publishedDate  1985.0539203308863  38.030385731963555  101-01-01    20??\n",
      "ratingsCount   272.09905936069714   788.8162145564311        1.0  4895.0\n"
     ]
    }
   ],
   "source": [
    "import pandas as pd\n",
    "cols = [\n",
    "    \"review/score\",\n",
    "    \"price\",\n",
    "    \"publishedDate\",\n",
    "    \"ratingsCount\",\n",
    "]\n",
    "\n",
    "# 1) Usando describe() — devuelve count, mean, stddev, min, max\n",
    "desc_df = full_data.select(cols).describe().toPandas()\n",
    "desc_transposed = desc_df.set_index('summary').T.drop('count', axis=1)\n",
    "\n",
    "print(desc_transposed)"
   ]
  },
  {
   "cell_type": "code",
   "execution_count": 148,
   "metadata": {},
   "outputs": [
    {
     "name": "stdout",
     "output_type": "stream",
     "text": [
      "+-------+---------+---------+----------------+----------------+-----------------+------------------+\n",
      "|  count|min_chars|max_chars|      mean_chars|    stddev_chars|      mean_tokens|     stddev_tokens|\n",
      "+-------+---------+---------+----------------+----------------+-----------------+------------------+\n",
      "|2359775|        1|    26092|722.179402697291|630.200551802687|91.85404533333333|103.08612464092816|\n",
      "+-------+---------+---------+----------------+----------------+-----------------+------------------+\n",
      "\n"
     ]
    }
   ],
   "source": [
    "cols = [\n",
    "    \"publishedDate\",\n",
    "    \"ratingsCount\",\n",
    "]\n",
    "\n",
    "full_data = full_data \\\n",
    "    .withColumn('desc_len_chars', F.length(F.col('description'))) \\\n",
    "    .withColumn('desc_len_tokens', F.size(F.split(F.col('description'), r'\\s+')))\n",
    "\n",
    "stats_desc = full_data.agg(\n",
    "    F.count('description').alias('count'),\n",
    "    F.min('desc_len_chars').alias('min_chars'),\n",
    "    F.max('desc_len_chars').alias('max_chars'),\n",
    "    F.mean('desc_len_chars').alias('mean_chars'),\n",
    "    F.stddev('desc_len_chars').alias('stddev_chars'),\n",
    "    F.mean('desc_len_tokens').alias('mean_tokens'),\n",
    "    F.stddev('desc_len_tokens').alias('stddev_tokens')\n",
    ")\n",
    "stats_desc.show()"
   ]
  },
  {
   "cell_type": "markdown",
   "metadata": {},
   "source": [
    "<a id=\"muestra\"></a>\n",
    "# 2. Construcción de la Muestra Representativa (M)"
   ]
  },
  {
   "cell_type": "markdown",
   "metadata": {},
   "source": [
    "Las particiones se crean a partir del producto cruzado entre:\n",
    "- **review_score_group**: Low (1–2), Mid (3), High (4–5)\n",
    "- **categories_group**: Fiction / Non-Fiction\n",
    "\n",
    "### Probabilidades empíricas por combinación:"
   ]
  },
  {
   "cell_type": "code",
   "execution_count": 149,
   "metadata": {},
   "outputs": [
    {
     "name": "stdout",
     "output_type": "stream",
     "text": [
      "+-------+-----------+-------+---------------------+\n",
      "|R_group|C_group    |N      |Pr                   |\n",
      "+-------+-----------+-------+---------------------+\n",
      "|High   |Fiction    |38670  |0.01289              |\n",
      "|High   |Non‑Fiction|2354289|0.784763             |\n",
      "|Low    |Fiction    |3736   |0.0012453333333333333|\n",
      "|Low    |Non‑Fiction|349010 |0.11633666666666667  |\n",
      "|Mid    |Fiction    |3103   |0.0010343333333333333|\n",
      "|Mid    |Non‑Fiction|251192 |0.08373066666666666  |\n",
      "+-------+-----------+-------+---------------------+\n",
      "\n"
     ]
    }
   ],
   "source": [
    "from pyspark.sql.functions import col, when, regexp_replace, split, explode\n",
    "\n",
    "# 1) Definir R_group\n",
    "full_data = full_data.withColumn(\n",
    "    \"R_group\",\n",
    "    when(col(\"review/score\") <= 2, \"Low\")\n",
    "    .when(col(\"review/score\") == 3, \"Mid\")\n",
    "    .otherwise(\"High\")\n",
    ")\n",
    "\n",
    "# 2) Definir C_group limpiando y usando la primera etiqueta\n",
    "#    (asume formato [\"Cat1\",\"Cat2\",…])\n",
    "full_data = full_data.withColumn(\n",
    "    \"first_cat\",\n",
    "    split(regexp_replace(col(\"categories\"), r\"^\\[|\\]$\", \"\"), r\",\\s*\")[0]\n",
    ")\n",
    "full_data = full_data.withColumn(\n",
    "    \"C_group\",\n",
    "    when(col(\"first_cat\").contains(\"fiction\"), \"Fiction\").otherwise(\"Non‑Fiction\")\n",
    ").drop(\"first_cat\")\n",
    "\n",
    "# 3) Ver probabilidades empíricas de cada combinación\n",
    "freqs = (\n",
    "    full_data\n",
    "    .groupBy(\"R_group\", \"C_group\")\n",
    "    .count()\n",
    "    .withColumnRenamed(\"count\", \"N\")\n",
    "    .withColumn(\"Pr\", (col(\"N\") / full_data.count()).cast(\"double\"))\n",
    "    .orderBy(\"R_group\", \"C_group\")\n",
    ")\n",
    "freqs.show(truncate=False)\n"
   ]
  },
  {
   "cell_type": "code",
   "execution_count": 150,
   "metadata": {},
   "outputs": [
    {
     "name": "stdout",
     "output_type": "stream",
     "text": [
      "Low×Fiction: 3,736 rows\n",
      "Low×Non‑Fiction: 349,010 rows\n",
      "Mid×Fiction: 3,103 rows\n",
      "Mid×Non‑Fiction: 251,192 rows\n",
      "High×Fiction: 38,670 rows\n",
      "High×Non‑Fiction: 2,354,289 rows\n"
     ]
    }
   ],
   "source": [
    "from pyspark.sql.functions import col\n",
    "\n",
    "# 1) Función auxiliar\n",
    "def get_partition(df, r_group: str, c_group: str):\n",
    "    return df.filter((col(\"R_group\") == r_group) & (col(\"C_group\") == c_group))\n",
    "\n",
    "# 2) Generar un dict con todos los estratos\n",
    "partitions = {}\n",
    "for rg in [\"Low\", \"Mid\", \"High\"]:\n",
    "    for cg in [\"Fiction\", \"Non‑Fiction\"]:\n",
    "        key = f\"{rg}×{cg}\"\n",
    "        partitions[key] = get_partition(full_data, rg, cg)\n",
    "\n",
    "# 3) Ver conteos de cada partición\n",
    "for key, df_part in partitions.items():\n",
    "    print(f\"{key}: {df_part.count():,} rows\")"
   ]
  },
  {
   "cell_type": "markdown",
   "metadata": {},
   "source": [
    "## Técnica de muestreo\n",
    "Se usará **muestreo aleatorio simple estratificado** (SRS) dentro de cada estrato (R_group x C_group) por estas razones:.\n",
    "\n",
    "**Control de heterogeneidad**: cada combinación de sentimiento (Low/Mid/High) y género (Fiction/Non‑Fiction) se trata como una subpoblación homogénea.\n",
    "\n",
    "**Minimización de sesgos**: al muestrear por estrato, evitamos que los grupos grandes dominen la muestra.\n",
    "\n",
    "**Asignación tipo Neyman**: definimos fracciones mayores en estratos pequeños para garantizar un tamaño de muestra mínimo, y menores en estratos muy grandes para eficiencia.\n",
    "\n",
    "### Fórmula de tamaño de muestra de Cochran\n",
    "\n",
    "$$\n",
    "n_0 = \\frac{Z^2 \\cdot p \\cdot (1 - p)}{E^2}\n",
    "$$\n",
    "\n",
    "Donde:\n",
    "\n",
    "- **n₀** = tamaño de muestra inicial para poblaciones grandes (antes de cualquier ajuste para poblaciones finitas)  \n",
    "- **Z** = valor z (por ejemplo, 1.96 para un 95 % de confianza)  \n",
    "- **p** = proporción poblacional estimada (usar 0.5 si se desconoce)  \n",
    "- **E** = margen de error  "
   ]
  },
  {
   "cell_type": "code",
   "execution_count": 151,
   "metadata": {},
   "outputs": [
    {
     "name": "stdout",
     "output_type": "stream",
     "text": [
      "Tamaño de muestra necesario: 16384.0\n",
      "Tamaño de muestra ajustado (población finita): 16296\n"
     ]
    }
   ],
   "source": [
    "#Definición del tamaño de muestra\n",
    "import math\n",
    "\n",
    "Z = 2.56 # 99% de confianza\n",
    "p = 0.5 # probabilidad de que el usuario le guste el libro\n",
    "E = 0.01 # margen de error\n",
    "\n",
    "n0 = (Z**2 * p * (1-p)) / (E**2)\n",
    "print(\"Tamaño de muestra necesario:\", n0)\n",
    "\n",
    "N = full_data.count() # población total\n",
    "\n",
    "n = n0 / (1 + ((n0 - 1) / N))\n",
    "n = math.ceil(n)\n",
    "print(f\"Tamaño de muestra ajustado (población finita): {n}\")"
   ]
  },
  {
   "cell_type": "markdown",
   "metadata": {},
   "source": [
    "### Fórmula para muestreo estratificado\n",
    "\n",
    "El muestreo estratificado se utiliza cuando una población puede dividirse en subgrupos distintos, o estratos, como grupos de edad, género o nivel educativo. El tamaño de muestra para cada estrato puede determinarse mediante el uso de la asignación proporcional:\n",
    "\n",
    "$$\n",
    "n_h = \\frac{N_h}{N} \\cdot n\n",
    "$$\n",
    "\n",
    "Donde:\n",
    "\n",
    "- **nₕ** = tamaño de muestra para el estrato h  \n",
    "- **Nₕ** = tamaño de la población en el estrato h  \n",
    "- **N** = tamaño total de la población  \n",
    "- **n** = tamaño total de la muestra  "
   ]
  },
  {
   "cell_type": "code",
   "execution_count": 152,
   "metadata": {},
   "outputs": [
    {
     "name": "stdout",
     "output_type": "stream",
     "text": [
      "+-------+-----------+-----+\n",
      "|R_group|C_group    |count|\n",
      "+-------+-----------+-----+\n",
      "|High   |Fiction    |225  |\n",
      "|High   |Non‑Fiction|12936|\n",
      "|Low    |Fiction    |58   |\n",
      "|Low    |Non‑Fiction|1861 |\n",
      "|Mid    |Fiction    |56   |\n",
      "|Mid    |Non‑Fiction|1414 |\n",
      "+-------+-----------+-----+\n",
      "\n"
     ]
    }
   ],
   "source": [
    "from pyspark.sql.functions import concat_ws, col\n",
    "fraction = n / N\n",
    "\n",
    "\n",
    "# 1) Definición de frecuencias para obtener como mínimo 50 muestras por estrato\n",
    "fractions = {\n",
    "    \"Low×Fiction\":      50/3756,\n",
    "    \"Low×Non‑Fiction\":  fraction,\n",
    "    \"Mid×Fiction\":      50/3103,\n",
    "    \"Mid×Non‑Fiction\":  fraction,\n",
    "    \"High×Fiction\":     fraction,\n",
    "    \"High×Non‑Fiction\": fraction,\n",
    "}\n",
    "\n",
    "# 2) Creo la columna compuesta\n",
    "full2 = full_data.withColumn(\n",
    "    \"stratum\",\n",
    "    concat_ws(\"×\", col(\"R_group\"), col(\"C_group\"))\n",
    ")\n",
    "\n",
    "# 3) Muestreo estratificado usando esa columna\n",
    "sample_df = full2.stat.sampleBy(\"stratum\", fractions, seed=42)\n",
    "\n",
    "# 4) Veo el conteo por estrato para validar\n",
    "sample_df.groupBy(\"R_group\", \"C_group\") \\\n",
    "         .count() \\\n",
    "         .orderBy(\"R_group\", \"C_group\") \\\n",
    "         .show(truncate=False)\n"
   ]
  },
  {
   "cell_type": "code",
   "execution_count": 153,
   "metadata": {},
   "outputs": [
    {
     "name": "stdout",
     "output_type": "stream",
     "text": [
      "+-------+-----------+-----+---------+\n",
      "|R_group|    C_group|    N|MeanScore|\n",
      "+-------+-----------+-----+---------+\n",
      "|   High|    Fiction|  225|      4.8|\n",
      "|   High|Non‑Fiction|12936|     4.75|\n",
      "|    Low|    Fiction|   58|      1.6|\n",
      "|    Low|Non‑Fiction| 1861|     1.43|\n",
      "|    Mid|    Fiction|   56|      3.0|\n",
      "|    Mid|Non‑Fiction| 1414|      3.0|\n",
      "+-------+-----------+-----+---------+\n",
      "\n"
     ]
    }
   ],
   "source": [
    "# Estadísticas exploratorias por grupo\n",
    "sample_df.groupBy('R_group', 'C_group') \\\n",
    "    .agg(F.count('*').alias('N'),\n",
    "         F.round(F.avg('review/score'),2).alias('MeanScore')) \\\n",
    "    .orderBy('R_group','C_group') \\\n",
    "    .show()"
   ]
  },
  {
   "cell_type": "code",
   "execution_count": 154,
   "metadata": {},
   "outputs": [
    {
     "name": "stdout",
     "output_type": "stream",
     "text": [
      "+-------+-----------+-----+---------------------+\n",
      "|R_group|C_group    |N    |Pr                   |\n",
      "+-------+-----------+-----+---------------------+\n",
      "|High   |Fiction    |225  |0.013595166163141994 |\n",
      "|High   |Non‑Fiction|12936|0.7816314199395771   |\n",
      "|Low    |Fiction    |58   |0.0035045317220543807|\n",
      "|Low    |Non‑Fiction|1861 |0.11244712990936556  |\n",
      "|Mid    |Fiction    |56   |0.0033836858006042296|\n",
      "|Mid    |Non‑Fiction|1414 |0.0854380664652568   |\n",
      "+-------+-----------+-----+---------------------+\n",
      "\n"
     ]
    }
   ],
   "source": [
    "# 3) Verificación de probabilidades de cada combinación en la muestra\n",
    "#    (deberían ser similares a las de la población)\n",
    "#    (asume que la muestra es representativa)\n",
    "freqs_Sample = (\n",
    "    sample_df\n",
    "    .groupBy(\"R_group\", \"C_group\")\n",
    "    .count()\n",
    "    .withColumnRenamed(\"count\", \"N\")\n",
    "    .withColumn(\"Pr\", (col(\"N\") / sample_df.count()).cast(\"double\"))\n",
    "    .orderBy(\"R_group\", \"C_group\")\n",
    ")\n",
    "freqs_Sample.show(truncate=False)"
   ]
  },
  {
   "cell_type": "code",
   "execution_count": 155,
   "metadata": {},
   "outputs": [
    {
     "name": "stdout",
     "output_type": "stream",
     "text": [
      "Número de registros: 16550\n",
      "Número de columnas: 24\n"
     ]
    }
   ],
   "source": [
    "print(\"Número de registros: \" + str(sample_df.count()))\n",
    "print(\"Número de columnas: \" + str(len(sample_df.columns)))"
   ]
  },
  {
   "cell_type": "markdown",
   "metadata": {},
   "source": [
    "<a id=\"division\"></a>\n",
    "# 3. División de la Muestra en Entrenamiento y Prueba"
   ]
  },
  {
   "cell_type": "code",
   "execution_count": 156,
   "id": "50895066",
   "metadata": {},
   "outputs": [
    {
     "name": "stdout",
     "output_type": "stream",
     "text": [
      "+----------------------------+\n",
      "|features                    |\n",
      "+----------------------------+\n",
      "|[4.0,6.52,39.0,228.0,32.0]  |\n",
      "|[4.0,6.52,39.0,228.0,32.0]  |\n",
      "|[5.0,6.48,52.0,1078.0,189.0]|\n",
      "|[4.0,10.99,1.0,429.0,83.0]  |\n",
      "|[5.0,10.95,2.0,185.0,30.0]  |\n",
      "+----------------------------+\n",
      "only showing top 5 rows\n",
      "\n"
     ]
    }
   ],
   "source": [
    "from pyspark.ml.feature import VectorAssembler\n",
    "from pyspark.sql.types import NumericType\n",
    "\n",
    "# 1. Seleccionar columnas numéricas reales\n",
    "features_cols = [\"review/score\", \"Price\", \"ratingsCount\", \"desc_len_chars\", \"desc_len_tokens\"]\n",
    "\n",
    "# 2. Asegurarse de que no hay valores nulos\n",
    "sample_df = sample_df.select(*features_cols, \"R_group\", \"C_group\", \"stratum\").dropna()\n",
    "\n",
    "# 3. Armar el vector de características\n",
    "assembler = VectorAssembler(inputCols=features_cols, outputCol=\"features\")\n",
    "sample_df = assembler.transform(sample_df)\n",
    "\n",
    "# 4. Verifica que se creó la columna 'features'\n",
    "sample_df.select(\"features\").show(5, truncate=False)"
   ]
  },
  {
   "cell_type": "markdown",
   "metadata": {},
   "source": [
    "<a id=\"conjuntos\"></a>\n",
    "## Preparación del conjunto de entrenamiento y prueba"
   ]
  },
  {
   "cell_type": "code",
   "execution_count": 157,
   "metadata": {},
   "outputs": [
    {
     "name": "stdout",
     "output_type": "stream",
     "text": [
      "Entrenamiento: 828 filas\n",
      "Prueba: 398 filas\n"
     ]
    }
   ],
   "source": [
    "# Dividir el dataset en entrenamiento y prueba\n",
    "train_df, test_df = sample_df.randomSplit([0.7, 0.3], seed=42)\n",
    "print(f\"Entrenamiento: {train_df.count()} filas\")\n",
    "print(f\"Prueba: {test_df.count()} filas\")"
   ]
  },
  {
   "cell_type": "markdown",
   "metadata": {},
   "source": [
    "<a id=\"metricas\"></a>\n",
    "# 4. Selección de Métricas de Evaluación"
   ]
  },
  {
   "cell_type": "markdown",
   "metadata": {},
   "source": [
    "Evaluación de Modelos de Clasificación\n",
    "\n",
    "El objetivo del codigo será implementar un pipeline de ML en PySpark para predecir la variable \"review/score\" a partir de varias características numéricas\n",
    "\n",
    "El modelo a emplear es un random forest clasifier, este modelo crea multiples arboles de desición y conbina sus resultados, se emplea este modelo debido a que es robusto, y preciso, especialmente con variables no lineales.\n",
    "\n",
    "## 1. Accuracy (Precisión)\n",
    "\n",
    "Es la proporción de predicciones correctas sobre el total de predicciones:\n",
    "\n",
    "### Ventajas:\n",
    "\n",
    "- Es fácil de interpretar.\n",
    "- Útil cuando las clases están balanceadas.\n",
    "\n",
    "### Limitaciones:\n",
    "\n",
    "- No es robusta ante desbalanceo de clases.  \n",
    "  Por ejemplo, si el 80% de los datos son “5 estrellas”, un modelo que siempre predice 5 tendrá alta accuracy pero no será útil.\n",
    "\n",
    "## 2. Precision, Recall y F1-Score (por clase)\n",
    "\n",
    "Estas métricas se calculan para cada clase (por ejemplo, “1 estrella”, “2 estrellas”, etc.) y son especialmente útiles cuando algunas clases son mucho menos frecuentes que otras.\n",
    "\n",
    "### Precision         \n",
    "\n",
    "La precisión mide qué proporción de las instancias que el modelo predijo como positivas (o como una clase específica) realmente lo eran.\n",
    "\n",
    "$$\n",
    "\\text{Precision} = \\frac{\\text{True Positives}}{\\text{True Positives} + \\text{False Positives}}\n",
    "$$\n",
    "\n",
    "Alta precisión significa pocos falsos positivos.\n",
    "Es útil cuando el costo de un falso positivo es alto.\n",
    "\n",
    "_Ejemplo: en un sistema de detección de spam, no quieres marcar correos legítimos como spam._\n",
    "\n",
    "### Recall             \n",
    "\n",
    "El recall mide qué proporción de las instancias reales positivas (o de una clase) fueron correctamente detectadas por el modelo.\n",
    "\n",
    "$$\n",
    "\\text{Recall} = \\frac{\\text{True Positives}}{\\text{True Positives} + \\text{False Negatives}}\n",
    "$$\n",
    "\n",
    "Alto recall significa pocos falsos negativos.\n",
    "Es útil cuando es crítico no perder ninguna instancia positiva.\n",
    "\n",
    "_Ejemplo: en detección de enfermedades, es importante detectar todos los casos positivos, incluso si hay algunos falsos positivos._\n",
    "\n",
    "### F1-Score           \n",
    "\n",
    "El F1-score es la media armónica entre precision y recall. Es una métrica que balancea ambas cuando hay una compensación entre falsos positivos y falsos negativos.\n",
    "\n",
    "\n",
    "$$\n",
    "\\text{F1-Score} = 2 \\cdot \\frac{\\text{Precision} \\cdot \\text{Recall}}{\\text{Precision} + \\text{Recall}}\n",
    "$$\n",
    "\n",
    "Es útil cuando quieres encontrar un equilibrio entre precision y recall.\n",
    "Toma un valor entre 0 y 1 (1 es lo mejor).\n",
    "\n",
    "\n",
    "### Ventajas:\n",
    "\n",
    "Informan sobre el desempeño por clase.\n",
    "El F1-score es útil si hay desequilibrio en clases (como entre puntuaciones 1–5).\n",
    "\n",
    "##  3. Matriz de confusión\n",
    "\n",
    "Es fundamental para problemas multiclase.  \n",
    "Muestra cuántas veces el modelo predijo correctamente por clase.\n",
    "\n",
    "Útil para detectar patrones de error comunes (por ejemplo, si el modelo confunde 4 y 5 estrellas, pero distingue bien 1 y 5).\n",
    "\n",
    "\n",
    "## Métricas a emplear\n",
    "\n",
    "Dado que estás clasificando scores de 1 a 5 estrellas (posiblemente reagrupadas), te recomiendo usar:\n",
    "\n",
    "Objetivo                        Métricas recomendadas                 \n",
    "Evaluación general del modelo    _accuracy_                           \n",
    "Evaluación detallada por clase   _precision, recall, f1-score_\n",
    "Análisis de errores               _matriz de confusión_"
   ]
  },
  {
   "cell_type": "markdown",
   "metadata": {},
   "source": [
    "<a id=\"entrenamiento\"></a>\n",
    "# 5. Entrenamiento de Modelos de Aprendizaje"
   ]
  },
  {
   "cell_type": "code",
   "execution_count": 158,
   "metadata": {},
   "outputs": [
    {
     "name": "stdout",
     "output_type": "stream",
     "text": [
      "Accuracy del modelo: 0.8015\n",
      "+------------+-----+----------+----------------------------+\n",
      "|review/score|label|prediction|features                    |\n",
      "+------------+-----+----------+----------------------------+\n",
      "|1.0         |2.0  |3.0       |[1.0,10.78,19.0,738.0,119.0]|\n",
      "|3.0         |3.0  |2.0       |[3.0,7.5,49.0,1235.0,220.0] |\n",
      "|3.0         |3.0  |2.0       |[3.0,10.98,7.0,1206.0,200.0]|\n",
      "|3.0         |3.0  |2.0       |[3.0,11.21,9.0,191.0,35.0]  |\n",
      "|4.0         |1.0  |1.0       |[4.0,10.99,1.0,429.0,83.0]  |\n",
      "+------------+-----+----------+----------------------------+\n",
      "only showing top 5 rows\n",
      "\n"
     ]
    }
   ],
   "source": [
    "from pyspark.ml.classification import RandomForestClassifier\n",
    "from pyspark.ml.evaluation import MulticlassClassificationEvaluator\n",
    "from pyspark.ml.feature import StringIndexer\n",
    "from pyspark.ml import Pipeline\n",
    "\n",
    "# 1. Convertir la etiqueta (review/score) en una variable categórica\n",
    "indexer = StringIndexer(inputCol=\"review/score\", outputCol=\"label\")\n",
    "train_df = indexer.fit(train_df).transform(train_df)\n",
    "test_df = indexer.fit(test_df).transform(test_df)\n",
    "\n",
    "# 2. Definir el modelo\n",
    "rf = RandomForestClassifier(featuresCol=\"features\", labelCol=\"label\", numTrees=20)\n",
    "\n",
    "# 3. Entrenar el modelo\n",
    "model = rf.fit(train_df)\n",
    "\n",
    "# 4. Realizar predicciones\n",
    "predictions = model.transform(test_df)\n",
    "\n",
    "# 5. Evaluar\n",
    "evaluator = MulticlassClassificationEvaluator(labelCol=\"label\", predictionCol=\"prediction\", metricName=\"accuracy\")\n",
    "accuracy = evaluator.evaluate(predictions)\n",
    "print(f\"Accuracy del modelo: {accuracy:.4f}\")\n",
    "\n",
    "# 6. Mostrar predicciones de ejemplo\n",
    "predictions.select(\"review/score\", \"label\", \"prediction\", \"features\").show(5, truncate=False)"
   ]
  },
  {
   "cell_type": "code",
   "execution_count": 163,
   "metadata": {},
   "outputs": [
    {
     "name": "stdout",
     "output_type": "stream",
     "text": [
      "Accuracy : 0.8015075376884422\n",
      "F1-Score : 0.8015075376884423\n",
      "Precision (promedio): 0.8015075376884423\n",
      "Recall (promedio): 0.8015075376884423\n"
     ]
    }
   ],
   "source": [
    "from pyspark.ml.evaluation import MulticlassClassificationEvaluator\n",
    "\n",
    "evaluator_acc = MulticlassClassificationEvaluator(labelCol=\"label\", predictionCol=\"prediction\", metricName=\"accuracy\")\n",
    "evaluator_f1  = MulticlassClassificationEvaluator(labelCol=\"label\", predictionCol=\"prediction\", metricName=\"f1\")\n",
    "evaluator_pr  = MulticlassClassificationEvaluator(labelCol=\"label\", predictionCol=\"prediction\", metricName=\"weightedPrecision\")\n",
    "evaluator_rc  = MulticlassClassificationEvaluator(labelCol=\"label\", predictionCol=\"prediction\", metricName=\"weightedRecall\")\n",
    "print(\"Accuracy :\", evaluator_acc.evaluate(predictions))\n",
    "print(\"F1-Score :\", evaluator_f1.evaluate(predictions))\n",
    "print(\"Precision (promedio):\", evaluator_pr.evaluate(predictions))\n",
    "print(\"Recall (promedio):\", evaluator_rc.evaluate(predictions))"
   ]
  },
  {
   "cell_type": "code",
   "execution_count": 160,
   "id": "1d830cd7",
   "metadata": {},
   "outputs": [
    {
     "name": "stdout",
     "output_type": "stream",
     "text": [
      "Resultados del modelo no supervisado (KMeans):\n",
      "Silhouette Score: 0.5976\n",
      "Centroides:\n",
      "  Centro 0: [   4.16801619   18.80989879   60.97975709 1079.17408907  175.64574899]\n",
      "  Centro 1: [  4.13884298  18.30034711 115.77355372 279.49256198  45.06942149]\n",
      "  Centro 2: [   3.88188976   22.71598425   16.49606299 2261.95275591  370.92913386]\n"
     ]
    }
   ],
   "source": [
    "from pyspark.ml.clustering import KMeans\n",
    "from pyspark.ml.evaluation import ClusteringEvaluator\n",
    "\n",
    "kmeans = KMeans(featuresCol=\"features\", k=3, seed=42)\n",
    "kmeans_model = kmeans.fit(sample_df)\n",
    "clusters = kmeans_model.transform(sample_df)\n",
    "\n",
    "evaluator = ClusteringEvaluator(featuresCol=\"features\", predictionCol=\"prediction\", metricName=\"silhouette\")\n",
    "silhouette = evaluator.evaluate(clusters)\n",
    "\n",
    "print(f\"Resultados del modelo no supervisado (KMeans):\")\n",
    "print(f\"Silhouette Score: {silhouette:.4f}\")\n",
    "print(\"Centroides:\")\n",
    "for i, center in enumerate(kmeans_model.clusterCenters()):\n",
    "    print(f\"  Centro {i}: {center}\")"
   ]
  },
  {
   "cell_type": "code",
   "execution_count": 161,
   "metadata": {},
   "outputs": [
    {
     "data": {
      "image/png": "[encoded data removed]",
      "text/plain": [
       "<Figure size 800x600 with 2 Axes>"
      ]
     },
     "metadata": {},
     "output_type": "display_data"
    },
    {
     "name": "stderr",
     "output_type": "stream",
     "text": [
      "C:\\Users\\esteb\\AppData\\Local\\Temp\\ipykernel_41040\\53762958.py:22: FutureWarning: \n",
      "\n",
      "Passing `palette` without assigning `hue` is deprecated and will be removed in v0.14.0. Assign the `x` variable to `hue` and set `legend=False` for the same effect.\n",
      "\n",
      "  sns.countplot(x='label', data=pred_df, ax=ax[0], palette='pastel')\n",
      "C:\\Users\\esteb\\AppData\\Local\\Temp\\ipykernel_41040\\53762958.py:28: FutureWarning: \n",
      "\n",
      "Passing `palette` without assigning `hue` is deprecated and will be removed in v0.14.0. Assign the `x` variable to `hue` and set `legend=False` for the same effect.\n",
      "\n",
      "  sns.countplot(x='prediction', data=pred_df, ax=ax[1], palette='muted')\n"
     ]
    },
    {
     "data": {
      "image/png": "[encoded data removed]",
      "text/plain": [
       "<Figure size 1200x500 with 2 Axes>"
      ]
     },
     "metadata": {},
     "output_type": "display_data"
    }
   ],
   "source": [
    "import matplotlib.pyplot as plt\n",
    "import seaborn as sns\n",
    "import pandas as pd\n",
    "\n",
    "# Solo las columnas necesarias para visualización\n",
    "pred_df = predictions.select(\"label\", \"prediction\").toPandas()\n",
    "\n",
    "# Crear matriz de confusión\n",
    "conf_matrix = pd.crosstab(pred_df['label'], pred_df['prediction'], rownames=['Actual'], colnames=['Predicted'])\n",
    "\n",
    "# Visualizar matriz de confusión\n",
    "plt.figure(figsize=(8,6))\n",
    "sns.heatmap(conf_matrix, annot=True, fmt=\"d\", cmap=\"Blues\")\n",
    "plt.title(\"Matriz de Confusión\")\n",
    "plt.xlabel(\"Predicción\")\n",
    "plt.ylabel(\"Valor Real\")\n",
    "plt.show()\n",
    "\n",
    "fig, ax = plt.subplots(1, 2, figsize=(12, 5))\n",
    "\n",
    "# Conteo de clases reales\n",
    "sns.countplot(x='label', data=pred_df, ax=ax[0], palette='pastel')\n",
    "ax[0].set_title(\"Distribución de Clases Reales\")\n",
    "ax[0].set_xlabel(\"Clase\")\n",
    "ax[0].set_ylabel(\"Cantidad\")\n",
    "\n",
    "# Conteo de clases predichas\n",
    "sns.countplot(x='prediction', data=pred_df, ax=ax[1], palette='muted')\n",
    "ax[1].set_title(\"Distribución de Clases Predichas\")\n",
    "ax[1].set_xlabel(\"Clase\")\n",
    "ax[1].set_ylabel(\"Cantidad\")\n",
    "\n",
    "plt.tight_layout()\n",
    "plt.show()"
   ]
  },
  {
   "cell_type": "code",
   "execution_count": 162,
   "metadata": {},
   "outputs": [
    {
     "data": {
      "image/png": "[encoded data removed]",
      "text/plain": [
       "<Figure size 600x500 with 1 Axes>"
      ]
     },
     "metadata": {},
     "output_type": "display_data"
    }
   ],
   "source": [
    "# Visualización del resultado de clustering (usando 2 primeras dimensiones del vector)\n",
    "import pandas as pd\n",
    "import seaborn as sns\n",
    "import matplotlib.pyplot as plt\n",
    "\n",
    "pandas_clusters = clusters.select(\"prediction\", \"features\").toPandas()\n",
    "pandas_clusters[\"x\"] = pandas_clusters[\"features\"].apply(lambda v: v[0])\n",
    "pandas_clusters[\"y\"] = pandas_clusters[\"features\"].apply(lambda v: v[1])\n",
    "\n",
    "plt.figure(figsize=(6, 5))\n",
    "sns.scatterplot(data=pandas_clusters, x=\"x\", y=\"y\", hue=\"prediction\", palette=\"Set1\", s=60)\n",
    "plt.title(\"Clustering con KMeans (2 primeras dimensiones)\")\n",
    "plt.xlabel(\"Feature 1\")\n",
    "plt.ylabel(\"Feature 2\")\n",
    "plt.legend(title=\"Cluster\")\n",
    "plt.show()"
   ]
  },
  {
   "cell_type": "markdown",
   "metadata": {},
   "source": [
    "<a id=\"analisis\"></a>\n",
    "# 6. Análisis de Resultados\n",
    "\n",
    "MODELO SUPERVISADO\n",
    "\n",
    "Las métricas de presición y f1-score, al ser superiores a 80% son bastante aceptables, esto indicca que el 80.15% de las predicciones fueron correctas, tembien indican que el modelo tiene un buen balance entre presicion y cobertura.\n",
    "\n",
    "Las métricas  de presicion y recall indican que el modelo detecta una buena proporcion de los verdaderos casos positivos, sin embargo, son muy parecidos todas las métricas, por lo que se puede deber a 2 factores\n",
    "\n",
    "la distribucion de clases es balanceada, por lo que el modelo predice cada clase de forma similar, lo que hace que la presicion sea similar al recall, y por enfe el f1-score y accuracy tenderian a coincidir.\n",
    "\n",
    "Tambien podria ser un tema de redondeo de PySpark o tambien podria tratarse de un error en el código.\n",
    "\n",
    "MODELO NO SUPERVISADO\n",
    "\n",
    "Con la métrica de Silhouette con un valor de 0.5976 y 3 grupos de centroides con diferencias notables, este modelo esta separando los clusters adecuadamente, y estos presentan una buena cohesion, la difefencia en los centroides muestra que el modelo identifica patrones utiles.\n",
    "\n",
    "Aunque en esta parte del ejercicio nos centrramos en las metricas de evaluación, seria importante considerar el costo computacional del procedimiento, desconozco al momento si existe manera por parte de PySpark de cuantificar el costo  computacional o de recursos de las actividades realizadas.\n",
    "\n",
    "También las métricas muestran la importancia de realizar un correcto particionamiento de la población, tomando en cuenta los tipos de datos que lo conforman, el tipo de información asi como identificar clases embedidads en la estructura de los archivos.\n",
    "\n"
   ]
  }
 ],
 "metadata": {
  "kernelspec": {
   "display_name": "env-pyspark-310",
   "language": "python",
   "name": "python3"
  },
  "language_info": {
   "codemirror_mode": {
    "name": "ipython",
    "version": 3
   },
   "file_extension": ".py",
   "mimetype": "text/x-python",
   "name": "python",
   "nbconvert_exporter": "python",
   "pygments_lexer": "ipython3",
   "version": "3.10.16"
  }
 },
 "nbformat": 4,
 "nbformat_minor": 2
}
